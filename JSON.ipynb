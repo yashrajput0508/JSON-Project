{
  "nbformat": 4,
  "nbformat_minor": 0,
  "metadata": {
    "colab": {
      "name": "JSON.ipynb",
      "provenance": []
    },
    "kernelspec": {
      "name": "python3",
      "display_name": "Python 3"
    },
    "language_info": {
      "name": "python"
    }
  },
  "cells": [
    {
      "cell_type": "code",
      "metadata": {
        "id": "wKHiHq1GVN6q"
      },
      "source": [
        "record = {\n",
        "    1200 : {\"item\": \"dettolhandwash\" , \"price\" : 80 , \"quantity\" : 30 , \"category\": \"handwash\" , \"rating\": 9},\n",
        "    1201 : {\"item\": \"dettolbottle\" , \"price\" : 80 , \"quantity\" : 100 , \"category\": \"medicine\" , \"rating\": 8},     \n",
        "    1202 : {\"item\": \"paracetamol\" , \"price\" : 40 , \"quantity\" : 10 , \"category\": \"medicine\", \"rating\": 7}, \n",
        "    1203 : {\"item\": \"potato\" , \"price\" : 10 , \"quantity\" : 100 , \"category\": \"vegetable\", \"rating\": 8}, \n",
        "    1204 : {\"item\": \"5star(s)\" , \"price\" : 10 , \"quantity\" : 100 , \"category\": \"chocolate\",\"rating\": 7},   \n",
        "    1205 : {\"item\": \"5star(m)\" , \"price\" : 20 , \"quantity\" : 100 , \"category\": \"chocolate\", \"rating\": 8}, \n",
        "    1206 : {\"item\": \"5star(l)\" , \"price\" : 40 , \"quantity\" : 50 , \"category\": \"chocolate\", \"rating\": 6},   \n",
        "    1207 : {\"item\": \"kitkat(s)\" , \"price\" : 10 , \"quantity\" : 300 , \"category\": \"chocolate\", \"rating\": 5},   \n",
        "    1208 : {\"item\": \"kitkat(m)\" , \"price\" : 40 , \"quantity\" : 400 , \"category\": \"chocolate\",\"rating\": 4},   \n",
        "    1209 : {\"item\": \"sneakers\" , \"price\" : 10 , \"quantity\" : 500 , \"category\": \"chocolate\",\"rating\": 10},    \n",
        "    1210 : {\"item\": \"centerfresh\" , \"price\" : 1 , \"quantity\" : 1000 , \"category\": \"toffee\", \"rating\": 9},    \n",
        "    1211 : {\"item\": \"centerfruit\" , \"price\" : 1 , \"quantity\" : 1000 , \"category\": \"toffee\",\"rating\": 8}, \n",
        "    1212 : {\"item\": \"chocobar\" , \"price\" : 10 , \"quantity\" : 200 , \"category\": \"chocolate\",\"rating\": 7},     \n",
        "    1213 : {\"item\": \"pilotpen\" , \"price\" : 100 , \"quantity\" : 100 , \"category\": \"stationary\",\"rating\": 2},      \n",
        "    1214 : {\"item\": \"apsarapencil\" , \"price\" : 5 , \"quantity\" : 200 , \"category\": \"stationary\",\"rating\": 3},     \n",
        "    1215 : {\"item\": \"fair-copy\" , \"price\" : 70 , \"quantity\" : 80 , \"category\": \"stationary\",\"rating\": 4},     \n",
        "    1216 : {\"item\": \"rough-copy\" , \"price\" : 30 , \"quantity\" : 80 , \"category\": \"stationary\",\"rating\": 5},    \n",
        "    1217 : {\"item\": \"pencil-box\" , \"price\" : 100 , \"quantity\" : 90 , \"category\": \"stationary\",\"rating\": 8},    \n",
        "    1218 : {\"item\": \"colors\" , \"price\" : 120 , \"quantity\" : 40 , \"category\": \"stationary\",\"rating\": 9},   \n",
        "    1219 : {\"item\": \"fevicol(m)\" , \"price\" : 20 , \"quantity\" : 100 , \"category\": \"stationary\",\"rating\": 8}, \n",
        "    1220 : {\"item\": \"fevicol(l)\" , \"price\" : 50 , \"quantity\" : 300 , \"category\": \"stationary\",\"rating\": 10}, \n",
        "    1221 : {\"item\": \"chocobar\" , \"price\" : 10 , \"quantity\" : 200 , \"category\": \"chocolate\",\"rating\": 7},     \n",
        "    1222 : {\"item\": \"pilotpen\" , \"price\" : 100 , \"quantity\" : 100 , \"category\": \"stationary\",\"rating\": 2},      \n",
        "    1223 : {\"item\": \"apsarapencil\" , \"price\" : 5 , \"quantity\" : 200 , \"category\": \"stationary\",\"rating\": 3},     \n",
        "    1224 : {\"item\": \"fair-copy\" , \"price\" : 70 , \"quantity\" : 80 , \"category\": \"stationary\",\"rating\": 4},     \n",
        "    1225 : {\"item\": \"rough-copy\" , \"price\" : 30 , \"quantity\" : 80 , \"category\": \"stationary\",\"rating\": 5},    \n",
        "    1226 : {\"item\": \"pencil-box\" , \"price\" : 100 , \"quantity\" : 90 , \"category\": \"stationary\",\"rating\": 8},    \n",
        "    1227 : {\"item\": \"colors\" , \"price\" : 120 , \"quantity\" : 40 , \"category\": \"stationary\",\"rating\": 9},   \n",
        "    1228 : {\"item\": \"fevicol(m)\" , \"price\" : 20 , \"quantity\" : 100 , \"category\": \"stationary\",\"rating\": 8}, \n",
        "    1229 : {\"item\": \"fevicol(l)\" , \"price\" : 50 , \"quantity\" : 300 , \"category\": \"stationary\",\"rating\": 10}\n",
        "}"
      ],
      "execution_count": 14,
      "outputs": []
    },
    {
      "cell_type": "code",
      "metadata": {
        "colab": {
          "base_uri": "https://localhost:8080/"
        },
        "id": "zJnpccKVWnNa",
        "outputId": "8e455de8-6ff8-4d9f-b211-42158342bed6"
      },
      "source": [
        "from datetime import datetime\n",
        "from datetime import date\n",
        "\n",
        "product_id = int(input(\"Enter the product id:\"))\n",
        "product_quantity = int(input(\"Enter the product quantity:\"))\n",
        "now = datetime.now()\n",
        "current_time = now.strftime(\"%H:%M:%S\")\n",
        "current_date = date.today()\n",
        "\n",
        "if product_id in record.keys():\n",
        "  print('Product Name: ',record[product_id]['item'])\n",
        "  print('price per unit: ', record[product_id]['price'])\n",
        "  print('amount to be paid: ', product_quantity*record[product_id]['price'])\n",
        "  print('Time: ', str(current_time))\n",
        "  print('Date: ',str(current_date))\n",
        "  \n",
        "  if record[product_id]['quantity']<=product_quantity:\n",
        "    record[product_id]['quantity']-=product_quantity\n",
        "  else:\n",
        "    print(\"Product quantity left {}\".format(record[product_id]['quantity']))\n",
        "else:\n",
        "  print(\"Product Not Found\")"
      ],
      "execution_count": 15,
      "outputs": [
        {
          "output_type": "stream",
          "name": "stdout",
          "text": [
            "Enter the product id:1202\n",
            "Enter the product quantity:10\n",
            "Product Name:  paracetamol\n",
            "price per unit:  40\n",
            "amount to be paid:  400\n",
            "Time:  15:00:36\n",
            "Date:  2021-09-05\n"
          ]
        }
      ]
    },
    {
      "cell_type": "code",
      "metadata": {
        "id": "XCOMjTDtWyH1"
      },
      "source": [
        "import json\n",
        "js = json.dumps(record)\n",
        "\n",
        "with open('records.json','w') as fd:\n",
        "  fd.write(js)\n",
        "  fd.close()"
      ],
      "execution_count": 19,
      "outputs": []
    },
    {
      "cell_type": "code",
      "metadata": {
        "id": "Dxr-depXednB"
      },
      "source": [
        ""
      ],
      "execution_count": null,
      "outputs": []
    }
  ]
}